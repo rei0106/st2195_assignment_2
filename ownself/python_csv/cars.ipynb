{
 "cells": [
  {
   "cell_type": "code",
   "execution_count": 1,
   "id": "ac2a912d-7da0-44d4-ad9b-e10578f7235d",
   "metadata": {},
   "outputs": [
    {
     "name": "stdout",
     "output_type": "stream",
     "text": [
      "Requirement already satisfied: requests in c:\\users\\helen\\anaconda3\\lib\\site-packages (2.32.2)\n",
      "Requirement already satisfied: charset-normalizer<4,>=2 in c:\\users\\helen\\anaconda3\\lib\\site-packages (from requests) (2.0.4)\n",
      "Requirement already satisfied: idna<4,>=2.5 in c:\\users\\helen\\anaconda3\\lib\\site-packages (from requests) (3.7)\n",
      "Requirement already satisfied: urllib3<3,>=1.21.1 in c:\\users\\helen\\anaconda3\\lib\\site-packages (from requests) (2.2.2)\n",
      "Requirement already satisfied: certifi>=2017.4.17 in c:\\users\\helen\\anaconda3\\lib\\site-packages (from requests) (2024.8.30)\n",
      "Requirement already satisfied: beautifulsoup4 in c:\\users\\helen\\anaconda3\\lib\\site-packages (4.12.3)\n",
      "Requirement already satisfied: soupsieve>1.2 in c:\\users\\helen\\anaconda3\\lib\\site-packages (from beautifulsoup4) (2.5)\n"
     ]
    }
   ],
   "source": [
    "# Install the required libraries if you haven't installed them already\n",
    "!pip install requests\n",
    "!pip install beautifulsoup4"
   ]
  },
  {
   "cell_type": "code",
   "execution_count": 7,
   "id": "60261405-dba9-40ac-95b6-217803647466",
   "metadata": {},
   "outputs": [],
   "source": [
    "# Import the necessary libraries for web scraping\n",
    "import requests\n",
    "from bs4 import BeautifulSoup\n",
    "import csv"
   ]
  },
  {
   "cell_type": "code",
   "execution_count": 9,
   "id": "a9ca9004-d24b-4120-828c-99bc7e1bb51f",
   "metadata": {},
   "outputs": [],
   "source": [
    "# Define the function to scrape the car data from the Wikipedia page\n",
    "def scrape_car_data():\n",
    "    # URL of the Wikipedia page with CSV examples\n",
    "    url = \"https://en.wikipedia.org/wiki/Comma-separated_values\"\n",
    "    \n",
    "    # Send a GET request to fetch the webpage content\n",
    "    response = requests.get(url)\n",
    "    \n",
    "    # Parse the webpage using BeautifulSoup\n",
    "    soup = BeautifulSoup(response.content, \"html.parser\")\n",
    "    \n",
    "    # Find the preformatted text containing car data\n",
    "    car_data = soup.find(\"pre\").get_text()\n",
    "    \n",
    "    # Split the data into lines\n",
    "    car_lines = car_data.splitlines()\n",
    "    \n",
    "    # Write the data to a CSV file\n",
    "    with open(\"car_data.csv\", \"w\", newline='') as file:\n",
    "        writer = csv.writer(file)\n",
    "        for line in car_lines:\n",
    "            writer.writerow(line.split(','))\n",
    "    \n",
    "    print(\"CSV file saved successfully.\")\n"
   ]
  },
  {
   "cell_type": "code",
   "execution_count": 12,
   "id": "8d343298-2633-4357-bbc7-fa87614d5d7d",
   "metadata": {},
   "outputs": [
    {
     "name": "stdout",
     "output_type": "stream",
     "text": [
      "CSV file saved successfully.\n"
     ]
    }
   ],
   "source": [
    "# Run the function to scrape the data and save it as a CSV\n",
    "scrape_car_data()"
   ]
  },
  {
   "cell_type": "code",
   "execution_count": 14,
   "id": "b1fc7074-abac-4a0c-8f2d-5e32060092ee",
   "metadata": {},
   "outputs": [
    {
     "data": {
      "text/html": [
       "<div>\n",
       "<style scoped>\n",
       "    .dataframe tbody tr th:only-of-type {\n",
       "        vertical-align: middle;\n",
       "    }\n",
       "\n",
       "    .dataframe tbody tr th {\n",
       "        vertical-align: top;\n",
       "    }\n",
       "\n",
       "    .dataframe thead th {\n",
       "        text-align: right;\n",
       "    }\n",
       "</style>\n",
       "<table border=\"1\" class=\"dataframe\">\n",
       "  <thead>\n",
       "    <tr style=\"text-align: right;\">\n",
       "      <th></th>\n",
       "      <th>1997</th>\n",
       "      <th>Ford</th>\n",
       "      <th>E350</th>\n",
       "    </tr>\n",
       "  </thead>\n",
       "  <tbody>\n",
       "  </tbody>\n",
       "</table>\n",
       "</div>"
      ],
      "text/plain": [
       "Empty DataFrame\n",
       "Columns: [1997, Ford, E350]\n",
       "Index: []"
      ]
     },
     "execution_count": 14,
     "metadata": {},
     "output_type": "execute_result"
    }
   ],
   "source": [
    "# Let's check if the CSV file was saved correctly\n",
    "import pandas as pd\n",
    "\n",
    "# Load and display the first few rows of the CSV file\n",
    "car_data = pd.read_csv(\"car_data.csv\")\n",
    "car_data.head()"
   ]
  },
  {
   "cell_type": "code",
   "execution_count": null,
   "id": "168b8ff4-0351-41fe-bfd3-f02c7c7694aa",
   "metadata": {},
   "outputs": [],
   "source": []
  }
 ],
 "metadata": {
  "kernelspec": {
   "display_name": "Python 3 (ipykernel)",
   "language": "python",
   "name": "python3"
  },
  "language_info": {
   "codemirror_mode": {
    "name": "ipython",
    "version": 3
   },
   "file_extension": ".py",
   "mimetype": "text/x-python",
   "name": "python",
   "nbconvert_exporter": "python",
   "pygments_lexer": "ipython3",
   "version": "3.12.4"
  }
 },
 "nbformat": 4,
 "nbformat_minor": 5
}
